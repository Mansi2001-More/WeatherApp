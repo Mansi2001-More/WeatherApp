{
 "cells": [
  {
   "cell_type": "code",
   "execution_count": 1,
   "id": "642ac17f-f5c6-4303-81c7-40bbffaaa14d",
   "metadata": {},
   "outputs": [],
   "source": [
    "import requests"
   ]
  },
  {
   "cell_type": "code",
   "execution_count": 2,
   "id": "6b04e23c-57a4-48d0-abf6-46559212b7a7",
   "metadata": {},
   "outputs": [],
   "source": [
    "import pandas as pd"
   ]
  },
  {
   "cell_type": "code",
   "execution_count": 3,
   "id": "59551626-7019-4cf1-85fc-628023a9fd97",
   "metadata": {},
   "outputs": [],
   "source": [
    "import matplotlib.pyplot as plt"
   ]
  },
  {
   "cell_type": "markdown",
   "id": "f27ae161-3fa2-4bbd-a88b-f49c2fe1e32b",
   "metadata": {},
   "source": [
    "Task 1. Retrieve current weather data for a list of cities (e.g., New York, London, Tokyo)."
   ]
  },
  {
   "cell_type": "markdown",
   "id": "4d777476-6a19-4332-bd2a-9766d68a4954",
   "metadata": {},
   "source": [
    "OpenWeatherMap APT Key"
   ]
  },
  {
   "cell_type": "code",
   "execution_count": 4,
   "id": "6032179d-f522-4d7c-a398-bf6015dbe642",
   "metadata": {},
   "outputs": [],
   "source": [
    "API_KEY = '9425be47a704404eea6e2ca5b09f27af'"
   ]
  },
  {
   "cell_type": "code",
   "execution_count": 5,
   "id": "c50c7e3e-4b45-4109-93a9-5c8ae3e86123",
   "metadata": {},
   "outputs": [],
   "source": [
    "BASE_URL = \"https://api.openweathermap.org/data/2.5/weather\""
   ]
  },
  {
   "cell_type": "markdown",
   "id": "0e629492-b8cf-4565-bbb7-297b87cc674d",
   "metadata": {},
   "source": [
    "List of Cities to retrive weather data for"
   ]
  },
  {
   "cell_type": "code",
   "execution_count": 6,
   "id": "28737772-d3ef-4f85-a207-511f96e87f79",
   "metadata": {},
   "outputs": [],
   "source": [
    "cities = [\"New York\",\"London\",\"Tokyo\"]"
   ]
  },
  {
   "cell_type": "markdown",
   "id": "8d7c572d-dbf4-4224-91a1-35f0205bdf36",
   "metadata": {},
   "source": [
    "Function to retrieve weather data for a city"
   ]
  },
  {
   "cell_type": "code",
   "execution_count": 7,
   "id": "32cfe9dd-f4d1-4c92-bb90-d93111a7f961",
   "metadata": {},
   "outputs": [],
   "source": [
    "def get_weather (city):\n",
    "\n",
    "    # construct the URL with the city and API key\n",
    "    url = f\"{BASE_URL}?q={city}&appid={API_KEY}&units=metric\"  # Using 'metric' for Celsius\n",
    "    response = requests.get(url)\n",
    "    data = response.json()\n",
    "\n",
    "    if response.status_code == 200: #it means that the server successfully processed your request and returned the data in the expected format.\n",
    "        # Extract relevant information\n",
    "        city_name = data['name']\n",
    "        temperature = data['main']['temp']\n",
    "        weather = data['weather'][0]['description']\n",
    "        humidity = data['main']['humidity']\n",
    "        \n",
    "        return city_name, temperature, weather, humidity\n",
    "    else:\n",
    "        print(f\"Error retrieving data for {city}: {data.get('message', 'Unknown error')}\")\n",
    "        return None"
   ]
  },
  {
   "cell_type": "markdown",
   "id": "7a303f00-8cfb-4177-82bb-94576552dfad",
   "metadata": {},
   "source": [
    "url: This is the URL for the OpenWeatherMap API. It is created dynamically using Python's f-string formatting.\n",
    "\n",
    "    BASE_URL: The base URL for the OpenWeatherMap weather API.\n",
    "    {city}: This is where the city name is inserted dynamically.\n",
    "    {API_KEY}: Your personal API key is inserted here for authentication.\n",
    "    units=metric: This specifies that the temperature should be returned in Celsius. If you wanted Fahrenheit, you would use units=imperial"
   ]
  },
  {
   "cell_type": "markdown",
   "id": "5efa4fa7-775f-45e8-9a5e-823230e3a4f9",
   "metadata": {},
   "source": [
    "List to store weather data"
   ]
  },
  {
   "cell_type": "code",
   "execution_count": 8,
   "id": "aefc1d90-28d8-48aa-87b8-2413e3ccd18b",
   "metadata": {},
   "outputs": [],
   "source": [
    "weather_data = []"
   ]
  },
  {
   "cell_type": "markdown",
   "id": "260e00ce-84b2-409a-b807-d1a9d35c7962",
   "metadata": {},
   "source": [
    "Retrieve weather data for each city"
   ]
  },
  {
   "cell_type": "code",
   "execution_count": 9,
   "id": "1b209e27-157e-4dd0-b4c6-92d3c76ed352",
   "metadata": {},
   "outputs": [],
   "source": [
    "for city in cities:\n",
    "    result = get_weather(city)\n",
    "    if result:\n",
    "        weather_data.append(result)\n"
   ]
  },
  {
   "cell_type": "markdown",
   "id": "b6616734-8cbb-4346-9965-913be8631f3c",
   "metadata": {},
   "source": [
    " Task 2. Store the data in a Pandas DataFrame with the following columns:\n",
    "\n",
    "    City: The city name.\n",
    "    Temperature: The current temperature.\n",
    "    Weather: A brief description of the weather.\n",
    "    Humidity: The humidity level.\n"
   ]
  },
  {
   "cell_type": "code",
   "execution_count": 10,
   "id": "1b747627-2c36-4203-bca8-1524a416fa80",
   "metadata": {},
   "outputs": [],
   "source": [
    "df = pd.DataFrame(weather_data, columns=['City', 'Temperature', 'Weather', 'Humidity'])"
   ]
  },
  {
   "cell_type": "code",
   "execution_count": 11,
   "id": "e0cbcfaf-26f1-4973-bf95-cca2ad0b0c04",
   "metadata": {},
   "outputs": [
    {
     "data": {
      "text/html": [
       "<div>\n",
       "<style scoped>\n",
       "    .dataframe tbody tr th:only-of-type {\n",
       "        vertical-align: middle;\n",
       "    }\n",
       "\n",
       "    .dataframe tbody tr th {\n",
       "        vertical-align: top;\n",
       "    }\n",
       "\n",
       "    .dataframe thead th {\n",
       "        text-align: right;\n",
       "    }\n",
       "</style>\n",
       "<table border=\"1\" class=\"dataframe\">\n",
       "  <thead>\n",
       "    <tr style=\"text-align: right;\">\n",
       "      <th></th>\n",
       "      <th>City</th>\n",
       "      <th>Temperature</th>\n",
       "      <th>Weather</th>\n",
       "      <th>Humidity</th>\n",
       "    </tr>\n",
       "  </thead>\n",
       "  <tbody>\n",
       "    <tr>\n",
       "      <th>0</th>\n",
       "      <td>New York</td>\n",
       "      <td>3.52</td>\n",
       "      <td>clear sky</td>\n",
       "      <td>52</td>\n",
       "    </tr>\n",
       "    <tr>\n",
       "      <th>1</th>\n",
       "      <td>London</td>\n",
       "      <td>6.49</td>\n",
       "      <td>light rain</td>\n",
       "      <td>92</td>\n",
       "    </tr>\n",
       "    <tr>\n",
       "      <th>2</th>\n",
       "      <td>Tokyo</td>\n",
       "      <td>4.85</td>\n",
       "      <td>few clouds</td>\n",
       "      <td>51</td>\n",
       "    </tr>\n",
       "  </tbody>\n",
       "</table>\n",
       "</div>"
      ],
      "text/plain": [
       "       City  Temperature     Weather  Humidity\n",
       "0  New York         3.52   clear sky        52\n",
       "1    London         6.49  light rain        92\n",
       "2     Tokyo         4.85  few clouds        51"
      ]
     },
     "execution_count": 11,
     "metadata": {},
     "output_type": "execute_result"
    }
   ],
   "source": [
    "df"
   ]
  },
  {
   "cell_type": "markdown",
   "id": "e686be9a-3909-4918-b995-41d5ae9af834",
   "metadata": {},
   "source": [
    "Task 3. Create a bar chart showing the temperatures of the cities."
   ]
  },
  {
   "cell_type": "code",
   "execution_count": 12,
   "id": "153faf8a-5dae-49fe-999c-c671d6ab536c",
   "metadata": {},
   "outputs": [
    {
     "data": {
      "image/png": "[encoded data removed]",
      "text/plain": [
       "<Figure size 1000x600 with 1 Axes>"
      ]
     },
     "metadata": {},
     "output_type": "display_data"
    }
   ],
   "source": [
    "plt.figure(figsize=(10, 6))\n",
    "plt.bar(df['City'], df['Temperature'], color= 'skyblue')\n",
    "plt.xlabel('City')\n",
    "plt.ylabel('Temperature (°C)')\n",
    "plt.title('Current Temperature in Cities')\n",
    "plt.show()"
   ]
  },
  {
   "cell_type": "markdown",
   "id": "72e212c0-1ee6-4987-a5be-dc22d840284f",
   "metadata": {},
   "source": [
    "Task 4. Identify and display the city with the highest and lowest temperatures."
   ]
  },
  {
   "cell_type": "code",
   "execution_count": 13,
   "id": "0b1c7991-0647-4047-ac0e-259a1c36c5c6",
   "metadata": {},
   "outputs": [],
   "source": [
    "highest_temp_city = df.loc[df['Temperature'].idxmax()]\n",
    "lowest_temp_city = df.loc[df['Temperature'].idxmin()]"
   ]
  },
  {
   "cell_type": "markdown",
   "id": "13ed1e04-ebdb-4869-ac89-0ec599044b50",
   "metadata": {},
   "source": [
    "Print the results"
   ]
  },
  {
   "cell_type": "code",
   "execution_count": 14,
   "id": "51d5199a-86a0-4a38-9f46-e1ef5094233f",
   "metadata": {},
   "outputs": [
    {
     "name": "stdout",
     "output_type": "stream",
     "text": [
      "\n",
      "City with the highest temperature:\n",
      "London with 6.49°C\n",
      "\n",
      "City with the lowest temperature:\n",
      "New York with 3.52°C\n"
     ]
    }
   ],
   "source": [
    "print(\"\\nCity with the highest temperature:\")\n",
    "print(f\"{highest_temp_city['City']} with {highest_temp_city['Temperature']}°C\")\n",
    "\n",
    "print(\"\\nCity with the lowest temperature:\")\n",
    "print(f\"{lowest_temp_city['City']} with {lowest_temp_city['Temperature']}°C\")"
   ]
  },
  {
   "cell_type": "code",
   "execution_count": null,
   "id": "436c1cb5-ed8f-4904-a305-dee7aafe8c9a",
   "metadata": {},
   "outputs": [],
   "source": []
  }
 ],
 "metadata": {
  "kernelspec": {
   "display_name": "Python 3 (ipykernel)",
   "language": "python",
   "name": "python3"
  },
  "language_info": {
   "codemirror_mode": {
    "name": "ipython",
    "version": 3
   },
   "file_extension": ".py",
   "mimetype": "text/x-python",
   "name": "python",
   "nbconvert_exporter": "python",
   "pygments_lexer": "ipython3",
   "version": "3.11.9"
  }
 },
 "nbformat": 4,
 "nbformat_minor": 5
}
